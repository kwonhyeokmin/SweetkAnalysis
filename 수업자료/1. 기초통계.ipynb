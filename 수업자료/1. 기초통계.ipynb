{
 "cells": [
  {
   "cell_type": "markdown",
   "metadata": {},
   "source": [
    "# 1. 기초통계"
   ]
  },
  {
   "cell_type": "markdown",
   "metadata": {},
   "source": [
    "![1-1](../image/1-1.jpg)"
   ]
  },
  {
   "cell_type": "markdown",
   "metadata": {},
   "source": [
    "## 0. 사용데이터\n",
    "[출처: Japan Hostel-Dataset](https://www.kaggle.com/koki25ando/hostel-world-dataset)\n",
    "\n",
    "### Columns\n",
    "* Row: num\n",
    "* hostel.nameHostel: Name\n",
    "* CityCity name: where hostel is located in\n",
    "* price.fromMinimum: Price for 1 night stay\n",
    "* DistanceDistance: from city center (km)\n",
    "* summary.scoreSummary: score of ratings\n",
    "* rating.bandRating: band\n",
    "* atmosphereRating: score of atmosphere\n",
    "* cleanlinessRating: score of cleanliness\n",
    "* facilitiesRating: score of falicities\n",
    "* location.yRating: score of location\n",
    "* securityRating: score of security\n",
    "* staffRating: score of staff\n",
    "* valueformoneyRating: score of value for money\n",
    "* lon: Longitude\n",
    "* lat: Latitude"
   ]
  },
  {
   "cell_type": "code",
   "execution_count": 182,
   "metadata": {},
   "outputs": [],
   "source": [
    "# 필요 라이브러리 로드\n",
    "import numpy as np\n",
    "import pandas as pd\n",
    "import matplotlib.pyplot as plt\n",
    "import matplotlib.lines as mlines"
   ]
  },
  {
   "cell_type": "code",
   "execution_count": 195,
   "metadata": {},
   "outputs": [],
   "source": [
    "# 데이터 불러오기 및 전처리\n",
    "dataset = pd.read_csv('../data/Hostel.csv')\n",
    "dataset = dataset.dropna() # 결측치 제거\n",
    "dataset = dataset.drop(dataset.columns[0], axis=1)"
   ]
  },
  {
   "cell_type": "code",
   "execution_count": 131,
   "metadata": {},
   "outputs": [
    {
     "data": {
      "text/html": [
       "<div>\n",
       "<style scoped>\n",
       "    .dataframe tbody tr th:only-of-type {\n",
       "        vertical-align: middle;\n",
       "    }\n",
       "\n",
       "    .dataframe tbody tr th {\n",
       "        vertical-align: top;\n",
       "    }\n",
       "\n",
       "    .dataframe thead th {\n",
       "        text-align: right;\n",
       "    }\n",
       "</style>\n",
       "<table border=\"1\" class=\"dataframe\">\n",
       "  <thead>\n",
       "    <tr style=\"text-align: right;\">\n",
       "      <th></th>\n",
       "      <th>hostel.name</th>\n",
       "      <th>City</th>\n",
       "      <th>price.from</th>\n",
       "      <th>Distance</th>\n",
       "      <th>summary.score</th>\n",
       "      <th>rating.band</th>\n",
       "      <th>atmosphere</th>\n",
       "      <th>cleanliness</th>\n",
       "      <th>facilities</th>\n",
       "      <th>location.y</th>\n",
       "      <th>security</th>\n",
       "      <th>staff</th>\n",
       "      <th>valueformoney</th>\n",
       "      <th>lon</th>\n",
       "      <th>lat</th>\n",
       "    </tr>\n",
       "  </thead>\n",
       "  <tbody>\n",
       "    <tr>\n",
       "      <th>0</th>\n",
       "      <td>\"Bike &amp; Bed\" CharinCo Hostel</td>\n",
       "      <td>Osaka</td>\n",
       "      <td>3300</td>\n",
       "      <td>2.9km from city centre</td>\n",
       "      <td>9.2</td>\n",
       "      <td>Superb</td>\n",
       "      <td>8.9</td>\n",
       "      <td>9.4</td>\n",
       "      <td>9.3</td>\n",
       "      <td>8.9</td>\n",
       "      <td>9.0</td>\n",
       "      <td>9.4</td>\n",
       "      <td>9.4</td>\n",
       "      <td>135.513767</td>\n",
       "      <td>34.682678</td>\n",
       "    </tr>\n",
       "    <tr>\n",
       "      <th>2</th>\n",
       "      <td>&amp;And Hostel Akihabara</td>\n",
       "      <td>Tokyo</td>\n",
       "      <td>3600</td>\n",
       "      <td>7.8km from city centre</td>\n",
       "      <td>8.7</td>\n",
       "      <td>Fabulous</td>\n",
       "      <td>8.0</td>\n",
       "      <td>7.0</td>\n",
       "      <td>9.0</td>\n",
       "      <td>8.0</td>\n",
       "      <td>10.0</td>\n",
       "      <td>10.0</td>\n",
       "      <td>9.0</td>\n",
       "      <td>139.777472</td>\n",
       "      <td>35.697447</td>\n",
       "    </tr>\n",
       "    <tr>\n",
       "      <th>3</th>\n",
       "      <td>&amp;And Hostel Ueno</td>\n",
       "      <td>Tokyo</td>\n",
       "      <td>2600</td>\n",
       "      <td>8.7km from city centre</td>\n",
       "      <td>7.4</td>\n",
       "      <td>Very Good</td>\n",
       "      <td>8.0</td>\n",
       "      <td>7.5</td>\n",
       "      <td>7.5</td>\n",
       "      <td>7.5</td>\n",
       "      <td>7.0</td>\n",
       "      <td>8.0</td>\n",
       "      <td>6.5</td>\n",
       "      <td>139.783667</td>\n",
       "      <td>35.712716</td>\n",
       "    </tr>\n",
       "  </tbody>\n",
       "</table>\n",
       "</div>"
      ],
      "text/plain": [
       "                    hostel.name   City  price.from                Distance  \\\n",
       "0  \"Bike & Bed\" CharinCo Hostel  Osaka        3300  2.9km from city centre   \n",
       "2         &And Hostel Akihabara  Tokyo        3600  7.8km from city centre   \n",
       "3              &And Hostel Ueno  Tokyo        2600  8.7km from city centre   \n",
       "\n",
       "   summary.score rating.band  atmosphere  cleanliness  facilities  location.y  \\\n",
       "0            9.2      Superb         8.9          9.4         9.3         8.9   \n",
       "2            8.7    Fabulous         8.0          7.0         9.0         8.0   \n",
       "3            7.4   Very Good         8.0          7.5         7.5         7.5   \n",
       "\n",
       "   security  staff  valueformoney         lon        lat  \n",
       "0       9.0    9.4            9.4  135.513767  34.682678  \n",
       "2      10.0   10.0            9.0  139.777472  35.697447  \n",
       "3       7.0    8.0            6.5  139.783667  35.712716  "
      ]
     },
     "execution_count": 131,
     "metadata": {},
     "output_type": "execute_result"
    }
   ],
   "source": [
    "dataset.head(3)"
   ]
  },
  {
   "cell_type": "code",
   "execution_count": 132,
   "metadata": {},
   "outputs": [
    {
     "data": {
      "text/html": [
       "<div>\n",
       "<style scoped>\n",
       "    .dataframe tbody tr th:only-of-type {\n",
       "        vertical-align: middle;\n",
       "    }\n",
       "\n",
       "    .dataframe tbody tr th {\n",
       "        vertical-align: top;\n",
       "    }\n",
       "\n",
       "    .dataframe thead th {\n",
       "        text-align: right;\n",
       "    }\n",
       "</style>\n",
       "<table border=\"1\" class=\"dataframe\">\n",
       "  <thead>\n",
       "    <tr style=\"text-align: right;\">\n",
       "      <th></th>\n",
       "      <th>price.from</th>\n",
       "      <th>summary.score</th>\n",
       "      <th>atmosphere</th>\n",
       "      <th>cleanliness</th>\n",
       "      <th>facilities</th>\n",
       "      <th>location.y</th>\n",
       "      <th>security</th>\n",
       "      <th>staff</th>\n",
       "      <th>valueformoney</th>\n",
       "      <th>lon</th>\n",
       "      <th>lat</th>\n",
       "    </tr>\n",
       "  </thead>\n",
       "  <tbody>\n",
       "    <tr>\n",
       "      <th>count</th>\n",
       "      <td>2.980000e+02</td>\n",
       "      <td>298.000000</td>\n",
       "      <td>298.000000</td>\n",
       "      <td>298.000000</td>\n",
       "      <td>298.000000</td>\n",
       "      <td>298.000000</td>\n",
       "      <td>298.000000</td>\n",
       "      <td>298.000000</td>\n",
       "      <td>298.000000</td>\n",
       "      <td>298.000000</td>\n",
       "      <td>298.000000</td>\n",
       "    </tr>\n",
       "    <tr>\n",
       "      <th>mean</th>\n",
       "      <td>9.228188e+03</td>\n",
       "      <td>8.827852</td>\n",
       "      <td>8.325503</td>\n",
       "      <td>9.085235</td>\n",
       "      <td>8.653356</td>\n",
       "      <td>8.715436</td>\n",
       "      <td>8.978188</td>\n",
       "      <td>9.163423</td>\n",
       "      <td>8.869799</td>\n",
       "      <td>136.756376</td>\n",
       "      <td>34.976583</td>\n",
       "    </tr>\n",
       "    <tr>\n",
       "      <th>std</th>\n",
       "      <td>8.184564e+04</td>\n",
       "      <td>0.907097</td>\n",
       "      <td>1.266834</td>\n",
       "      <td>1.103644</td>\n",
       "      <td>1.218795</td>\n",
       "      <td>1.107320</td>\n",
       "      <td>1.073602</td>\n",
       "      <td>1.049501</td>\n",
       "      <td>1.009364</td>\n",
       "      <td>3.251995</td>\n",
       "      <td>2.040896</td>\n",
       "    </tr>\n",
       "    <tr>\n",
       "      <th>min</th>\n",
       "      <td>1.000000e+03</td>\n",
       "      <td>3.100000</td>\n",
       "      <td>2.000000</td>\n",
       "      <td>2.000000</td>\n",
       "      <td>2.000000</td>\n",
       "      <td>2.000000</td>\n",
       "      <td>2.000000</td>\n",
       "      <td>2.000000</td>\n",
       "      <td>4.000000</td>\n",
       "      <td>103.873135</td>\n",
       "      <td>1.310820</td>\n",
       "    </tr>\n",
       "    <tr>\n",
       "      <th>25%</th>\n",
       "      <td>2.000000e+03</td>\n",
       "      <td>8.600000</td>\n",
       "      <td>8.000000</td>\n",
       "      <td>8.900000</td>\n",
       "      <td>8.125000</td>\n",
       "      <td>8.300000</td>\n",
       "      <td>8.800000</td>\n",
       "      <td>9.000000</td>\n",
       "      <td>8.600000</td>\n",
       "      <td>135.505314</td>\n",
       "      <td>34.668900</td>\n",
       "    </tr>\n",
       "    <tr>\n",
       "      <th>50%</th>\n",
       "      <td>2.500000e+03</td>\n",
       "      <td>9.000000</td>\n",
       "      <td>8.600000</td>\n",
       "      <td>9.400000</td>\n",
       "      <td>9.000000</td>\n",
       "      <td>9.000000</td>\n",
       "      <td>9.200000</td>\n",
       "      <td>9.400000</td>\n",
       "      <td>9.050000</td>\n",
       "      <td>135.761617</td>\n",
       "      <td>34.998471</td>\n",
       "    </tr>\n",
       "    <tr>\n",
       "      <th>75%</th>\n",
       "      <td>2.900000e+03</td>\n",
       "      <td>9.400000</td>\n",
       "      <td>9.000000</td>\n",
       "      <td>9.800000</td>\n",
       "      <td>9.300000</td>\n",
       "      <td>9.400000</td>\n",
       "      <td>9.600000</td>\n",
       "      <td>9.800000</td>\n",
       "      <td>9.500000</td>\n",
       "      <td>139.770187</td>\n",
       "      <td>35.696709</td>\n",
       "    </tr>\n",
       "    <tr>\n",
       "      <th>max</th>\n",
       "      <td>1.003200e+06</td>\n",
       "      <td>10.000000</td>\n",
       "      <td>10.000000</td>\n",
       "      <td>10.000000</td>\n",
       "      <td>10.000000</td>\n",
       "      <td>10.000000</td>\n",
       "      <td>10.000000</td>\n",
       "      <td>10.000000</td>\n",
       "      <td>10.000000</td>\n",
       "      <td>139.877880</td>\n",
       "      <td>36.204824</td>\n",
       "    </tr>\n",
       "  </tbody>\n",
       "</table>\n",
       "</div>"
      ],
      "text/plain": [
       "         price.from  summary.score  atmosphere  cleanliness  facilities  \\\n",
       "count  2.980000e+02     298.000000  298.000000   298.000000  298.000000   \n",
       "mean   9.228188e+03       8.827852    8.325503     9.085235    8.653356   \n",
       "std    8.184564e+04       0.907097    1.266834     1.103644    1.218795   \n",
       "min    1.000000e+03       3.100000    2.000000     2.000000    2.000000   \n",
       "25%    2.000000e+03       8.600000    8.000000     8.900000    8.125000   \n",
       "50%    2.500000e+03       9.000000    8.600000     9.400000    9.000000   \n",
       "75%    2.900000e+03       9.400000    9.000000     9.800000    9.300000   \n",
       "max    1.003200e+06      10.000000   10.000000    10.000000   10.000000   \n",
       "\n",
       "       location.y    security       staff  valueformoney         lon  \\\n",
       "count  298.000000  298.000000  298.000000     298.000000  298.000000   \n",
       "mean     8.715436    8.978188    9.163423       8.869799  136.756376   \n",
       "std      1.107320    1.073602    1.049501       1.009364    3.251995   \n",
       "min      2.000000    2.000000    2.000000       4.000000  103.873135   \n",
       "25%      8.300000    8.800000    9.000000       8.600000  135.505314   \n",
       "50%      9.000000    9.200000    9.400000       9.050000  135.761617   \n",
       "75%      9.400000    9.600000    9.800000       9.500000  139.770187   \n",
       "max     10.000000   10.000000   10.000000      10.000000  139.877880   \n",
       "\n",
       "              lat  \n",
       "count  298.000000  \n",
       "mean    34.976583  \n",
       "std      2.040896  \n",
       "min      1.310820  \n",
       "25%     34.668900  \n",
       "50%     34.998471  \n",
       "75%     35.696709  \n",
       "max     36.204824  "
      ]
     },
     "execution_count": 132,
     "metadata": {},
     "output_type": "execute_result"
    }
   ],
   "source": [
    "# 데이터 요약정보\n",
    "dataset.describe()"
   ]
  },
  {
   "cell_type": "code",
   "execution_count": 83,
   "metadata": {},
   "outputs": [],
   "source": [
    "# 청결도\n",
    "cleanliness = dataset['cleanliness'].values # Series를 numpy.ndarray로 변환\n",
    "# 대기오염\n",
    "atmosphere = dataset['atmosphere'].values"
   ]
  },
  {
   "cell_type": "markdown",
   "metadata": {},
   "source": [
    "## 01. 기초 통계"
   ]
  },
  {
   "cell_type": "markdown",
   "metadata": {},
   "source": [
    "### 산술 평균(mean) \n",
    "* 자료의 총합을 자료의 개수로 나눈 것을 말합니다.\n",
    "* 자료의 분포를 질점계의 분포로 보면 무게 중심에 해당합니다.\n",
    "* 산술평균 외에도 기하평균, 조화평균, 가중평균 등이 있습니다.\n",
    "\n",
    "$$\\overline{x} = {1\\over n}{\\sum_{i=1}^n x_i}$$"
   ]
  },
  {
   "cell_type": "code",
   "execution_count": 102,
   "metadata": {},
   "outputs": [],
   "source": [
    "def mean(x):\n",
    "    return sum(x)/len(x)"
   ]
  },
  {
   "cell_type": "code",
   "execution_count": 103,
   "metadata": {},
   "outputs": [
    {
     "name": "stdout",
     "output_type": "stream",
     "text": [
      "청결도 평균:  9.08523489932886\n",
      "대기오염 평균:  8.325503355704704\n"
     ]
    }
   ],
   "source": [
    "print(\"청결도 평균: \", mean(cleanliness))\n",
    "print(\"대기오염 평균: \", mean(atmosphere))"
   ]
  },
  {
   "cell_type": "code",
   "execution_count": 104,
   "metadata": {},
   "outputs": [
    {
     "name": "stdout",
     "output_type": "stream",
     "text": [
      "청결도 평균:  9.085234899328858\n",
      "대기오염 평균:  8.325503355704697\n"
     ]
    }
   ],
   "source": [
    "# 라이브러리\n",
    "print(\"청결도 평균: \", np.mean(cleanliness))\n",
    "print(\"대기오염 평균: \", np.mean(atmosphere))"
   ]
  },
  {
   "cell_type": "markdown",
   "metadata": {},
   "source": [
    "### 분산(variance) \n",
    "* 자료로부터 평균값의 차이(편차)에 대한 제곱 값의 평균을 말함\n",
    "* 자료의 흩어진 정도를 나타낸다.\n",
    "\n",
    "$$s^2 = {1\\over n-1}{\\sum_{i=1}^n {(x_i-\\overline{x})^2}}$$"
   ]
  },
  {
   "cell_type": "code",
   "execution_count": 105,
   "metadata": {},
   "outputs": [],
   "source": [
    "def varience(x):\n",
    "    return mean((x-mean(x)) **2)"
   ]
  },
  {
   "cell_type": "code",
   "execution_count": 106,
   "metadata": {},
   "outputs": [
    {
     "name": "stdout",
     "output_type": "stream",
     "text": [
      "청결도 분산:  1.2139430656276757\n",
      "대기오염 분산:  1.5994838070357216\n"
     ]
    }
   ],
   "source": [
    "print(\"청결도 분산: \", varience(cleanliness))\n",
    "print(\"대기오염 분산: \", varience(atmosphere))"
   ]
  },
  {
   "cell_type": "code",
   "execution_count": 108,
   "metadata": {},
   "outputs": [
    {
     "name": "stdout",
     "output_type": "stream",
     "text": [
      "청결도 분산:  1.2139430656276744\n",
      "대기오염 분산:  1.5994838070357191\n"
     ]
    }
   ],
   "source": [
    "# 라이브러리\n",
    "print(\"청결도 분산: \", np.var(cleanliness))\n",
    "print(\"대기오염 분산: \", np.var(atmosphere))"
   ]
  },
  {
   "cell_type": "markdown",
   "metadata": {},
   "source": [
    "### 표준 편차(standard deviation)\n",
    "분산의 제곱근을 취하여 자료의 단위와 일치시킨 것을 말한다.\n",
    "\n",
    "$$s = \\sqrt{ {1 \\over n-1}{\\sum_{i=1}^n (x_i-\\overline{x})^2}}$$"
   ]
  },
  {
   "cell_type": "code",
   "execution_count": 88,
   "metadata": {},
   "outputs": [],
   "source": [
    "def stdev(x):\n",
    "    return varience(x) **(1/2)"
   ]
  },
  {
   "cell_type": "code",
   "execution_count": 109,
   "metadata": {},
   "outputs": [
    {
     "name": "stdout",
     "output_type": "stream",
     "text": [
      "청결도 분산:  1.2647070044226534\n",
      "대기오염 분산:  1.1017908447739415\n"
     ]
    }
   ],
   "source": [
    "print(\"청결도 분산: \", stdev(atmosphere))\n",
    "print(\"대기오염 분산: \", stdev(cleanliness))"
   ]
  },
  {
   "cell_type": "code",
   "execution_count": 111,
   "metadata": {},
   "outputs": [
    {
     "name": "stdout",
     "output_type": "stream",
     "text": [
      "청결도 분산:  1.2647070044226525\n",
      "대기오염 분산:  1.1017908447739408\n"
     ]
    }
   ],
   "source": [
    "# 라이브러리\n",
    "print(\"청결도 분산: \", np.std(atmosphere))\n",
    "print(\"대기오염 분산: \", np.std(cleanliness))"
   ]
  },
  {
   "cell_type": "markdown",
   "metadata": {},
   "source": [
    "### 공분산\n",
    "\n",
    "* 두 개 이상의 변량 데이터가 주어질 경우에 각 변량간의 변화하는 양상을 나타내는 통계적 척도\n",
    "\n",
    "$$\\overline{x} = {1\\over n}{\\sum_{i=1}^n x_i}, \\overline{y} = {1\\over n}{\\sum_{i=1}^n y_i}$$\n",
    "$$C(x, y) = {1 \\over n-1} {\\sum_{i=1}^n {(x_i-\\overline{x})(y_i-\\overline{y})}}$$"
   ]
  },
  {
   "cell_type": "code",
   "execution_count": 91,
   "metadata": {},
   "outputs": [],
   "source": [
    "def cov(x, y):\n",
    "    m_x = mean(x)\n",
    "    m_y = mean(y)\n",
    "    return sum((x-m_x)*(y-m_y))/(len(x)-1)"
   ]
  },
  {
   "cell_type": "code",
   "execution_count": 92,
   "metadata": {},
   "outputs": [
    {
     "name": "stdout",
     "output_type": "stream",
     "text": [
      "청결도와 대기오염의 공분산:  0.903913181027274\n"
     ]
    }
   ],
   "source": [
    "print(\"청결도와 대기오염의 공분산: \", cov(cleanliness, atmosphere))"
   ]
  },
  {
   "cell_type": "code",
   "execution_count": 112,
   "metadata": {},
   "outputs": [
    {
     "data": {
      "text/plain": [
       "array([[1.60486927, 0.90391318],\n",
       "       [0.90391318, 1.21803042]])"
      ]
     },
     "execution_count": 112,
     "metadata": {},
     "output_type": "execute_result"
    }
   ],
   "source": [
    "# 라이브러리\n",
    "np.cov(atmosphere, cleanliness)"
   ]
  },
  {
   "cell_type": "markdown",
   "metadata": {},
   "source": [
    "### 상관계수\n",
    "\n",
    "* 두 변량 X,Y 사이의 상관관계의 정도를 나타내는 수치(계수)\n",
    "\n",
    "#### 상관계수값의 의미 (출처: 위키피디아)\n",
    "* -1에 가까운 값이 얻어지면 : 누가 봐도 매우 강력한 음(-)의 상관. 오히려 너무 확고하기 때문에 일부 연구자들은 데이터를 조작한 게 아닌가 의심할 정도이다. 사회과학 한정이다. 순수학문에 가까운 분야일수록 요구되는 상관관계는 높은 편.\n",
    "* -0.5 정도의 값이 얻어지면 : 강력한 음(-)의 상관. 연구자는 변인 x 가 증가하면 변인 y 가 감소한다고 자신 있게 말할 수 있다.\n",
    "* -0.2 정도의 값이 얻어지면 : 음(-)의 상관이긴 한데 너무 약해서 모호하다. 상관관계가 없다고는 할 수 없지만 좀 더 의심해 봐야 한다.\n",
    "* 0 정도의 값이 얻어지면 : 대부분의 경우, 상관관계가 존재하지 않을 것이라고 간주된다. 다른 후속 연구들을 통해 뒤집어질지는 모르지만 일단은 회의적이다. 2차 방정식 그래프와 비슷한 모양이 될 경우 상관관계는 있으나 상관계수는 0에 가깝게 나온다.\n",
    "* 0.2 정도의 값이 얻어지면 : 너무 약해서 의심스러운 양(+)의 상관. 이것만으로는 상관관계에 대해 아주 장담할 수는 없다. 하지만 사회과학에선 매우 큰 상관관계가 있는 것으로 간주한다.\n",
    "* 0.5 정도의 값이 얻어지면 : 강력한 양(+)의 상관. 변인 x 가 증가하면 변인 y 가 증가한다는 주장은 이제 통계적으로 지지받고 있다.\n",
    "* 1에 가까운 값이 얻어지면 : 이상할 정도로 강력한 양(+)의 상관. 위와 마찬가지로, 이렇게까지 확고한 상관관계는 오히려 쉽게 찾아보기 어렵다."
   ]
  },
  {
   "cell_type": "code",
   "execution_count": 119,
   "metadata": {},
   "outputs": [],
   "source": [
    "def corrcoef(x, y):\n",
    "    return cov(x,y)/(stdev(x)*stdev(y))"
   ]
  },
  {
   "cell_type": "code",
   "execution_count": 121,
   "metadata": {},
   "outputs": [
    {
     "name": "stdout",
     "output_type": "stream",
     "text": [
      "청결도와 대기오염의 상관계수:  0.6486906470416247\n"
     ]
    }
   ],
   "source": [
    "print(\"청결도와 대기오염의 상관계수: \", corrcoef(atmosphere, cleanliness))"
   ]
  },
  {
   "cell_type": "code",
   "execution_count": 122,
   "metadata": {
    "scrolled": true
   },
   "outputs": [
    {
     "data": {
      "text/plain": [
       "array([[1.        , 0.64651383],\n",
       "       [0.64651383, 1.        ]])"
      ]
     },
     "execution_count": 122,
     "metadata": {},
     "output_type": "execute_result"
    }
   ],
   "source": [
    "# 라이브러리\n",
    "np.corrcoef(atmosphere, cleanliness)"
   ]
  },
  {
   "cell_type": "code",
   "execution_count": 208,
   "metadata": {},
   "outputs": [
    {
     "data": {
      "image/png": "[encoded data removed]",
      "text/plain": [
       "<Figure size 360x360 with 1 Axes>"
      ]
     },
     "metadata": {
      "needs_background": "light"
     },
     "output_type": "display_data"
    }
   ],
   "source": [
    "plt.figure(figsize=(5, 5))\n",
    "plt.title('atmosphere VS cleanliness')\n",
    "plt.scatter(atmosphere, cleanliness)\n",
    "plt.xlabel('atmosphere')\n",
    "plt.ylabel('cleanliness')\n",
    "plt.show()"
   ]
  }
 ],
 "metadata": {
  "kernelspec": {
   "display_name": "Python 3",
   "language": "python",
   "name": "python3"
  },
  "language_info": {
   "codemirror_mode": {
    "name": "ipython",
    "version": 3
   },
   "file_extension": ".py",
   "mimetype": "text/x-python",
   "name": "python",
   "nbconvert_exporter": "python",
   "pygments_lexer": "ipython3",
   "version": "3.6.5"
  }
 },
 "nbformat": 4,
 "nbformat_minor": 2
}
